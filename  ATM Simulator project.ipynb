{
 "cells": [
  {
   "cell_type": "code",
   "execution_count": null,
   "id": "8fef502d",
   "metadata": {},
   "outputs": [],
   "source": [
    "                                         * Project *"
   ]
  },
  {
   "cell_type": "code",
   "execution_count": null,
   "id": "aff635fb",
   "metadata": {},
   "outputs": [],
   "source": [
    "                                        ATM SIMULATOR "
   ]
  },
  {
   "cell_type": "code",
   "execution_count": null,
   "id": "3f8e6d07",
   "metadata": {},
   "outputs": [],
   "source": [
    "# Methodology/source of code:"
   ]
  },
  {
   "cell_type": "code",
   "execution_count": 2,
   "id": "a10e3984",
   "metadata": {},
   "outputs": [
    {
     "name": "stdout",
     "output_type": "stream",
     "text": [
      "Welcome to ABC Bank !!\n",
      "please enter the four digit pin: 1234\n",
      "wrong pin number\n",
      "you have 2 chances left\n",
      "please enter the four digit pin: 5678\n",
      "B : balance, D : deposit, W : withdraw,: B\n",
      "Your total balance is Rs.50000\n",
      "Would you like to exit? Yes/NO : no\n",
      "please enter the four digit pin: 5678\n",
      "B : balance, D : deposit, W : withdraw,: B\n",
      "Your total balance is Rs.50000\n",
      "Would you like to exit? Yes/NO : no\n",
      "please enter the four digit pin: 5678\n",
      "B : balance, D : deposit, W : withdraw,: D\n",
      "Enter the amount that you would like to deposit: 40000\n",
      "You have deposited Rs. 40000: \n",
      "total balance is Rs. 90000: \n",
      "Would you like to exit? Yes/NO : no\n",
      "please enter the four digit pin: 5678\n",
      "B : balance, D : deposit, W : withdraw,: W\n",
      "Enter the amount you want to withdraw: 60000\n",
      "You have withdrawn Rs.60000: \n",
      "Your total balance is Rs.-10000: \n",
      "Would you like to exit? Yes/NO : Yes\n",
      "Thankyou for using ABC Bank !!\n"
     ]
    }
   ],
   "source": [
    "print(\"Welcome to ABC Bank !!\")\n",
    "pin = 5678\n",
    "chances = 3\n",
    "balance = 50000\n",
    "while chances != 0:\n",
    "    user_pin = int(input(\"please enter the four digit pin: \"))\n",
    "    if user_pin != pin :\n",
    "        chances -= 1\n",
    "        print(\"wrong pin number\")\n",
    "        print(f\"you have {chances} chances left\")\n",
    "    else:\n",
    "        user_choice = input(\"B : balance, D : deposit, W : withdraw,: \")\n",
    "        if user_choice == \"B\":\n",
    "            print(f\"Your total balance is Rs.{balance}\")\n",
    "            \n",
    "        if user_choice == \"D\":\n",
    "            deposit_user = int(input(\"Enter the amount that you would like to deposit: \"))\n",
    "             \n",
    "            print(f\"You have deposited Rs. {deposit_user}: \")\n",
    "            print(f\"total balance is Rs. {deposit_user + balance}: \")\n",
    "        \n",
    "            \n",
    "        if user_choice == \"W\":\n",
    "            withdraw_user = int(input(\"Enter the amount you want to withdraw: \"))\n",
    "            total_balance = balance - withdraw_user\n",
    "            print(f\"You have withdrawn Rs.{withdraw_user}: \")\n",
    "            print(f\"Your total balance is Rs.{balance - withdraw_user}: \")\n",
    "            \n",
    "        user_exit = input(\"Would you like to exit? Yes/NO : \")\n",
    "        if user_exit ==\"Yes\":\n",
    "            print(\"Thankyou for using ABC Bank !!\")\n",
    "            break\n",
    "        else:\n",
    "            continue\n",
    "            "
   ]
  },
  {
   "cell_type": "code",
   "execution_count": null,
   "id": "de6d8a64",
   "metadata": {},
   "outputs": [],
   "source": [
    "# Supported Libraries :\n",
    "  #  1 : Numpy =NumPy python library helps users to work on arrays with ease. \n",
    "  #  2 : SciPy = SciPy is a scientific computation library which depends on NumPy for convenient and fast N-dimensional array manipulation."
   ]
  },
  {
   "cell_type": "code",
   "execution_count": null,
   "id": "ade6c489",
   "metadata": {},
   "outputs": [],
   "source": [
    " #Insights :\n",
    "    # The input for the application from the user is to enter the PIN and then ask the user to select an appropriate option and perform it accordingly\n",
    "    # checking balance\n",
    "    # deposited amounts\n",
    "    # withdrawing amounts\n",
    "    # exit of an ATM Machine .\n",
    "   \n",
    "\n"
   ]
  },
  {
   "cell_type": "code",
   "execution_count": null,
   "id": "0e331bdb",
   "metadata": {},
   "outputs": [],
   "source": [
    "Applications :\n",
    "    # An ATM allows customers with credit or debit cards to carry out basic banking transactions without the aid of a human bank teller.\n",
    "    # Customers can use them to withdraw cash, check their bank balance or get a printed balance statement.\n",
    "    # Customers can use them to withdraw cash, check their bank balance or get a printed balance statement. "
   ]
  }
 ],
 "metadata": {
  "kernelspec": {
   "display_name": "Python 3 (ipykernel)",
   "language": "python",
   "name": "python3"
  },
  "language_info": {
   "codemirror_mode": {
    "name": "ipython",
    "version": 3
   },
   "file_extension": ".py",
   "mimetype": "text/x-python",
   "name": "python",
   "nbconvert_exporter": "python",
   "pygments_lexer": "ipython3",
   "version": "3.11.4"
  }
 },
 "nbformat": 4,
 "nbformat_minor": 5
}
