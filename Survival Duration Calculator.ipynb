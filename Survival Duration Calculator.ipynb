{
 "cells": [
  {
   "cell_type": "code",
   "execution_count": null,
   "id": "da243d1d",
   "metadata": {},
   "outputs": [],
   "source": [
    "                                                 *project2*"
   ]
  },
  {
   "cell_type": "code",
   "execution_count": null,
   "id": "37021f53",
   "metadata": {},
   "outputs": [],
   "source": [
    "                                            *Survival Duration Calculator*"
   ]
  },
  {
   "cell_type": "code",
   "execution_count": null,
   "id": "3353b805",
   "metadata": {},
   "outputs": [],
   "source": [
    "Methodology/Source of Code :"
   ]
  },
  {
   "cell_type": "code",
   "execution_count": 1,
   "id": "3775d6bd",
   "metadata": {},
   "outputs": [
    {
     "name": "stdout",
     "output_type": "stream",
     "text": [
      "Enter your D.O.B in this format 'Year-month-day': 1999-10-24\n",
      "['1999', '10', '24']\n",
      "you are 24 years old.\n",
      "288 months\n",
      "1248 weeks\n",
      "8760 days\n",
      "210240 hours\n",
      "12614400 minutes\n",
      "756864000 seconds\n"
     ]
    }
   ],
   "source": [
    "import datetime \n",
    "\n",
    "def cal_age(year,month,day):\n",
    "    today = datetime.date.today()\n",
    "    dob = datetime.date(year,month,day)\n",
    "    age = int((today-dob).days/365)\n",
    "    return age\n",
    "\n",
    "\n",
    "user_dob = input(\"Enter your D.O.B in this format 'Year-month-day': \")\n",
    "\n",
    "dob = user_dob.split('-')\n",
    "\n",
    "print(dob)\n",
    "year,month,day = int(dob[0]),int(dob[1]),int(dob[2])\n",
    "your_age = cal_age(year,month,day)\n",
    "print(f\"you are {your_age} years old.\")\n",
    "print(12*your_age,'months')\n",
    "print(52*your_age,'weeks')\n",
    "print(365*your_age,'days')\n",
    "print(24*365*your_age,'hours')\n",
    "print(60*24*365*your_age,'minutes')\n",
    "print(60*60*24*365*your_age,'seconds')\n",
    "  \n"
   ]
  },
  {
   "cell_type": "code",
   "execution_count": null,
   "id": "47bdbca1",
   "metadata": {},
   "outputs": [],
   "source": [
    "Libraries:\n",
    "#    1 . datetime - Which provides functions to work with dates."
   ]
  },
  {
   "cell_type": "code",
   "execution_count": null,
   "id": "8c21b603",
   "metadata": {},
   "outputs": [],
   "source": [
    "Insights : \n",
    "# 1. calculate the duration of how long a person lived based on his/her Age. \n",
    "# 2. The duration  calculated in different time units such as Months, Weeks, Days, Hours, Minutes, Seconds\n"
   ]
  },
  {
   "cell_type": "code",
   "execution_count": null,
   "id": "df394dc1",
   "metadata": {},
   "outputs": [],
   "source": [
    "Applications :\n",
    "   # 1. It is a handy tool that allows users to determine their age based on their date of birth.\n",
    "# 2. Inputting the dates it provides the number of the days, months, weeks, hours, minutes, seconds and years since their birth.\n",
    "  #  3. It giving a precious measure of their journey through time."
   ]
  },
  {
   "cell_type": "code",
   "execution_count": null,
   "id": "93a18015",
   "metadata": {},
   "outputs": [],
   "source": []
  }
 ],
 "metadata": {
  "kernelspec": {
   "display_name": "Python 3 (ipykernel)",
   "language": "python",
   "name": "python3"
  },
  "language_info": {
   "codemirror_mode": {
    "name": "ipython",
    "version": 3
   },
   "file_extension": ".py",
   "mimetype": "text/x-python",
   "name": "python",
   "nbconvert_exporter": "python",
   "pygments_lexer": "ipython3",
   "version": "3.11.4"
  }
 },
 "nbformat": 4,
 "nbformat_minor": 5
}
